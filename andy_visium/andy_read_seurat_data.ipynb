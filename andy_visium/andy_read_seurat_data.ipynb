{
 "cells": [
  {
   "cell_type": "code",
   "execution_count": 1,
   "id": "59ec2ebd-f608-4156-92b2-56316883424f",
   "metadata": {},
   "outputs": [
    {
     "name": "stderr",
     "output_type": "stream",
     "text": [
      "Loading required package: SeuratObject\n",
      "\n",
      "Loading required package: sp\n",
      "\n",
      "\n",
      "Attaching package: ‘SeuratObject’\n",
      "\n",
      "\n",
      "The following objects are masked from ‘package:base’:\n",
      "\n",
      "    intersect, t\n",
      "\n",
      "\n"
     ]
    }
   ],
   "source": [
    "Sys.setenv(LANG=\"en\")\n",
    "library(Seurat)\n",
    "\n"
   ]
  },
  {
   "cell_type": "code",
   "execution_count": null,
   "id": "4e294bc7-cac5-4f24-9f7d-66d5dbf78ea9",
   "metadata": {},
   "outputs": [],
   "source": []
  },
  {
   "cell_type": "code",
   "execution_count": 2,
   "id": "a4837e9e-fe52-4c15-9688-bafabb51b95b",
   "metadata": {},
   "outputs": [],
   "source": [
    "data  <- readRDS(\"S_spatial_day7_r1.rds\")"
   ]
  },
  {
   "cell_type": "code",
   "execution_count": 3,
   "id": "e76cb8e1-ea17-478a-826e-82c23606d9f7",
   "metadata": {},
   "outputs": [
    {
     "data": {
      "text/plain": [
       "An object of class Seurat \n",
       "47724 features across 2325 samples within 3 assays \n",
       "Active assay: predictions (39 features, 0 variable features)\n",
       " 1 layer present: data\n",
       " 2 other assays present: Spatial, SCT\n",
       " 1 dimensional reduction calculated: pca\n",
       " 1 image present: spatial.tissue_hires_image.png"
      ]
     },
     "metadata": {},
     "output_type": "display_data"
    }
   ],
   "source": [
    "data"
   ]
  },
  {
   "cell_type": "code",
   "execution_count": 5,
   "id": "b2580d81-ff9a-4f9f-9201-adfccd2a0076",
   "metadata": {},
   "outputs": [],
   "source": [
    "counts_matrix <- as.matrix(data[[\"Spatial\"]]$counts)  \n",
    "counts_df <- as.data.frame(counts_matrix)        \n",
    "write.csv(counts_df, \"counts_data.csv\", row.names = TRUE, quote=FALSE)  "
   ]
  },
  {
   "cell_type": "code",
   "execution_count": 7,
   "id": "1c066f0b-cea1-498e-a091-61e0592af8c7",
   "metadata": {},
   "outputs": [],
   "source": [
    "#write.csv(Embeddings(data, reduction = \"umap\"), \"umap_embeddings.csv\")"
   ]
  },
  {
   "cell_type": "code",
   "execution_count": 8,
   "id": "83059c6e-4630-468b-93f4-e4b99cf2629e",
   "metadata": {},
   "outputs": [],
   "source": [
    "write.csv(data@meta.data, \"cell_metadata.csv\",row.names = TRUE, quote=FALSE)\n"
   ]
  },
  {
   "cell_type": "code",
   "execution_count": 9,
   "id": "bcf5e6fb-5f40-4727-ae5c-95c63997697e",
   "metadata": {},
   "outputs": [],
   "source": [
    "write.csv(Embeddings(data, reduction = \"pca\"), \"pca_embeddings.csv\")\n"
   ]
  },
  {
   "cell_type": "code",
   "execution_count": 11,
   "id": "4369a7f0-5e20-4d1c-b048-1990b063f0da",
   "metadata": {},
   "outputs": [
    {
     "data": {
      "text/html": [
       "<table class=\"dataframe\">\n",
       "<caption>A data.frame: 6 × 2</caption>\n",
       "<thead>\n",
       "\t<tr><th></th><th scope=col>imagerow</th><th scope=col>imagecol</th></tr>\n",
       "\t<tr><th></th><th scope=col>&lt;dbl&gt;</th><th scope=col>&lt;dbl&gt;</th></tr>\n",
       "</thead>\n",
       "<tbody>\n",
       "\t<tr><th scope=row>AAACAAGTATCTCCCA-1</th><td>440.7764</td><td>238.6920</td></tr>\n",
       "\t<tr><th scope=row>AAACAGAGCGACTCCT-1</th><td>411.5946</td><td>463.0016</td></tr>\n",
       "\t<tr><th scope=row>AAACATTTCCCGGATT-1</th><td>423.0328</td><td>170.0886</td></tr>\n",
       "\t<tr><th scope=row>AAACCCGAACGAAATC-1</th><td>487.2850</td><td>269.9583</td></tr>\n",
       "\t<tr><th scope=row>AAACCGGAAATGTTAA-1</th><td>519.6456</td><td>213.9396</td></tr>\n",
       "\t<tr><th scope=row>AAACCGTTCGTCCAGG-1</th><td>225.8989</td><td>225.6905</td></tr>\n",
       "</tbody>\n",
       "</table>\n"
      ],
      "text/latex": [
       "A data.frame: 6 × 2\n",
       "\\begin{tabular}{r|ll}\n",
       "  & imagerow & imagecol\\\\\n",
       "  & <dbl> & <dbl>\\\\\n",
       "\\hline\n",
       "\tAAACAAGTATCTCCCA-1 & 440.7764 & 238.6920\\\\\n",
       "\tAAACAGAGCGACTCCT-1 & 411.5946 & 463.0016\\\\\n",
       "\tAAACATTTCCCGGATT-1 & 423.0328 & 170.0886\\\\\n",
       "\tAAACCCGAACGAAATC-1 & 487.2850 & 269.9583\\\\\n",
       "\tAAACCGGAAATGTTAA-1 & 519.6456 & 213.9396\\\\\n",
       "\tAAACCGTTCGTCCAGG-1 & 225.8989 & 225.6905\\\\\n",
       "\\end{tabular}\n"
      ],
      "text/markdown": [
       "\n",
       "A data.frame: 6 × 2\n",
       "\n",
       "| <!--/--> | imagerow &lt;dbl&gt; | imagecol &lt;dbl&gt; |\n",
       "|---|---|---|\n",
       "| AAACAAGTATCTCCCA-1 | 440.7764 | 238.6920 |\n",
       "| AAACAGAGCGACTCCT-1 | 411.5946 | 463.0016 |\n",
       "| AAACATTTCCCGGATT-1 | 423.0328 | 170.0886 |\n",
       "| AAACCCGAACGAAATC-1 | 487.2850 | 269.9583 |\n",
       "| AAACCGGAAATGTTAA-1 | 519.6456 | 213.9396 |\n",
       "| AAACCGTTCGTCCAGG-1 | 225.8989 | 225.6905 |\n",
       "\n"
      ],
      "text/plain": [
       "                   imagerow imagecol\n",
       "AAACAAGTATCTCCCA-1 440.7764 238.6920\n",
       "AAACAGAGCGACTCCT-1 411.5946 463.0016\n",
       "AAACATTTCCCGGATT-1 423.0328 170.0886\n",
       "AAACCCGAACGAAATC-1 487.2850 269.9583\n",
       "AAACCGGAAATGTTAA-1 519.6456 213.9396\n",
       "AAACCGTTCGTCCAGG-1 225.8989 225.6905"
      ]
     },
     "metadata": {},
     "output_type": "display_data"
    }
   ],
   "source": [
    "coords <- GetTissueCoordinates(data)\n",
    "head(coords)"
   ]
  },
  {
   "cell_type": "code",
   "execution_count": 12,
   "id": "011eeef5-eab1-455f-a044-cbeb56f27a90",
   "metadata": {},
   "outputs": [],
   "source": [
    "write.csv(coords, \"coordinates.csv\",row.names = TRUE, quote=FALSE)\n"
   ]
  },
  {
   "cell_type": "code",
   "execution_count": null,
   "id": "42a1dae8-6cd1-4cb9-a938-b9c245765bc8",
   "metadata": {},
   "outputs": [],
   "source": []
  }
 ],
 "metadata": {
  "kernelspec": {
   "display_name": "R",
   "language": "R",
   "name": "ir"
  },
  "language_info": {
   "codemirror_mode": "r",
   "file_extension": ".r",
   "mimetype": "text/x-r-source",
   "name": "R",
   "pygments_lexer": "r",
   "version": "4.3.3"
  }
 },
 "nbformat": 4,
 "nbformat_minor": 5
}
